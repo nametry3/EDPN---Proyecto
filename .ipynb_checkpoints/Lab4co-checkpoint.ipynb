{
 "cells": [
  {
   "cell_type": "markdown",
   "metadata": {
    "colab_type": "text",
    "id": "view-in-github"
   },
   "source": [
    "<a href=\"https://colab.research.google.com/github/nametry3/Lab-4/blob/colab/Lab4co.ipynb\" target=\"_parent\"><img src=\"https://colab.research.google.com/assets/colab-badge.svg\" alt=\"Open In Colab\"/></a>"
   ]
  },
  {
   "cell_type": "code",
   "execution_count": 2,
   "metadata": {
    "colab": {},
    "colab_type": "code",
    "collapsed": true,
    "id": "_nxR03wUA3tx"
   },
   "outputs": [],
   "source": [
    "%matplotlib inline\n",
    "import numpy as np\n",
    "import matplotlib.pyplot as plt\n",
    "import seaborn as sns\n",
    "from scipy.integrate import quad\n",
    "from scipy.linalg import solve\n",
    "sns.set()\n",
    "sns.set_context('notebook', font_scale=1.6)\n",
    "sns.set_style('ticks')\n",
    "plt.rcParams['figure.figsize'] = (10, 5)"
   ]
  },
  {
   "cell_type": "code",
   "execution_count": 3,
   "metadata": {
    "collapsed": false
   },
   "outputs": [
    {
     "data": {
      "text/plain": [
       "<matplotlib.text.Text at 0x2075d9a8400>"
      ]
     },
     "execution_count": 3,
     "metadata": {},
     "output_type": "execute_result"
    },
    {
     "data": {
      "image/png": "[encoded data removed]",
      "text/plain": [
       "<matplotlib.figure.Figure at 0x2075a204048>"
      ]
     },
     "metadata": {},
     "output_type": "display_data"
    }
   ],
   "source": [
    "#### (i) ####\n",
    "def base(N):\n",
    "    h = L/(N+1) #paso\n",
    "    #listas que contendrán las familias de la base. Inicializadas como la función nula\n",
    "    f1 = [lambda x:0]*(N+1)\n",
    "    f2 = [lambda x:0]*(N+1)\n",
    "    #fábricas de funciones\n",
    "    def make_f1(j):\n",
    "        def f(x):\n",
    "            x_j = j*h\n",
    "            result = ( (1 - 3*(x-x_j)**2/h**2 - 2*(x-x_j)**3/h**3)*(x > (x_j - h))*(x <= x_j)\n",
    "                      +(1 - 3*(x-x_j)**2/h**2 + 2*(x-x_j)**3/h**3)*(x <=(x_j + h))*(x >  x_j) )\n",
    "            return result\n",
    "        return f\n",
    "    def make_f2(j):\n",
    "        def f(x):\n",
    "            x_j = j*h\n",
    "            result = ( (x-x_j + 2*(x-x_j)**2/h + (x-x_j)**3/h**2)*(x > (x_j - h))*(x <= x_j)\n",
    "                      +(x-x_j - 2*(x-x_j)**2/h + (x-x_j)**3/h**2)*(x <=(x_j + h))*(x >  x_j) )\n",
    "            return result\n",
    "        return f\n",
    "    #crear funciones y agregarlas a las listas correspondientes\n",
    "    for j in range(N+1):\n",
    "        f1[j] = make_f1(j)\n",
    "        f2[j] = make_f2(j)  \n",
    "    return f1,f2\n",
    "\n",
    "#Muestra con un N pequeño\n",
    "N = 20; L = 200\n",
    "f1,f2 = base(N)\n",
    "#graficamos algún miembro de cada vector\n",
    "f1_muestra = f1[3]; f2_muestra = f2[9]\n",
    "x = np.linspace(0,L,N)\n",
    "plt.figure()\n",
    "plt.plot(x, f1_muestra(x), label = r'$f^1_{3}$')\n",
    "plt.plot(x, f2_muestra(x), label = r'$f^2_{9}$')\n",
    "plt.xlabel('x')\n",
    "plt.ylabel('y')\n",
    "plt.legend()\n",
    "plt.title('Muestra de la base, N = '+str(N))"
   ]
  },
  {
   "cell_type": "code",
   "execution_count": null,
   "metadata": {
    "collapsed": true
   },
   "outputs": [],
   "source": [
    "#### (ii) ####\n",
    "#Primero, análogo a la creación de la base, creamos una rutina que define listas con las derivadas (de primer y segundo orden)\n",
    "def derivs(N):\n",
    "    h = L/(N+1) #paso\n",
    "    d1 = [lambda x:0]*(N+1)\n",
    "    d2 = [lambda x:0]*(N+1)\n",
    "    D1 = [lambda x:0]*(N+1)\n",
    "    D2 = [lambda x:0]*(N+1)\n",
    "    #fábricas de funciones\n",
    "    def make_d1(j):\n",
    "        def f(x):\n",
    "            x_j = j*h\n",
    "            result = ( (-6*(x-x_j)/h**2 - 6*(x-x_j)**2/h**3)*(x > (x_j - h))*(x <= x_j)\n",
    "                      +(-6*(x-x_j)/h**2 + 6*(x-x_j)**2/h**3)*(x <=(x_j + h))*(x >  x_j) )\n",
    "            return result\n",
    "        return f\n",
    "    def make_d2(j):\n",
    "        def f(x):\n",
    "            x_j = j*h\n",
    "            result = ( (1 + 4*(x-x_j)/h + 3*(x-x_j)**2/h**2)*(x > (x_j - h))*(x <= x_j)\n",
    "                      +(1 - 4*(x-x_j)/h + 3*(x-x_j)**2/h**2)*(x <=(x_j + h))*(x >  x_j) )\n",
    "            return result\n",
    "        return f\n",
    "    def make_D1(j):\n",
    "        def f(x):\n",
    "            x_j = j*h\n",
    "            result = ( (6*x_j/h**2 - 12*(x - x_j)/h**3)*(x > (x_j - h))*(x <= x_j)\n",
    "                      +(6*x_j/h**2 + 12*(x - x_j)/h**3)*(x <=(x_j + h))*(x >  x_j) )\n",
    "            return result\n",
    "        return f\n",
    "    def make_D2(j):\n",
    "        def f(x):\n",
    "            x_j = j*h\n",
    "            result = ( (4/h + 6*(x-x_j)/h**2)*(x > (x_j - h))*(x <= x_j)\n",
    "                      +(-4/h+ 6*(x-x_j)/h**2)*(x <=(x_j + h))*(x >  x_j) )\n",
    "            return result\n",
    "        return f\n",
    "    #crear funciones y agregarlas a las listas correspondientes\n",
    "    for j in range(N+1):\n",
    "        d1[j] = make_d1(j)\n",
    "        d2[j] = make_d2(j)\n",
    "        D1[j] = make_D1(j)\n",
    "        D2[j] = make_D2(j)  \n",
    "    return d1,d2,D1,D2\n",
    "\n",
    "#Crearemos funciones A y C que construyen las matrices buscadas, y una función b que calcula el lado derecho\n",
    "def ACb(N, D, q, V_0, M_0, g, Δρ, tol):\n",
    "    h = L/(N+1)\n",
    "    f1,f2 = base(N)\n",
    "    f1_x, f2_x, f1_xx, f2_xx = derivs(N)\n",
    "    #inicializar bloques de A y C, y vector b\n",
    "    A11 = A12 = A21 = A22 = np.zeros((N+1,N+1))\n",
    "    C11 = C12 = C21 = C22 = np.zeros((N+1,N+1))\n",
    "    b = np.zeros(2*N+2)\n",
    "    for i in range(N+1):\n",
    "        #b (sección superior e inferior)\n",
    "        b[i]   = quad(lambda x: q(x)*f1[i](x), h*(i-1),h*(i+1),epsabs=tol)[0] + V_0*f1[i](0) - M_0*f1_x[i](0)\n",
    "        b[i+N] = quad(lambda x: q(x)*f2[i](x), h*(i-1),h*(i+1),epsabs=tol)[0] + V_0*f2[i](0) - M_0*f2_x[i](0)\n",
    "        for j in range(N+1):\n",
    "            #obtener límites de integración si hay\n",
    "            if i==j: #parados en el mismo índice\n",
    "                a_ = h*(i-1); b_ = h*(i+1)\n",
    "            elif i + 1 == j or i == j+1: #f_j con la anterior\n",
    "                a_ = h*i; b_ = h*j\n",
    "            elif i == j+1:\n",
    "                a_ = h*j; b_ = h*i\n",
    "            else: continue #si no, no es necesario integrar, porque va a ser 0\n",
    "            #integrar si aplica\n",
    "            #C\n",
    "            C11[i,j] = quad(lambda x: f1[i](x)*f1[j](x),a_,b_,epsabs=tol)[0]\n",
    "            C12[i,j] = quad(lambda x: f1[i](x)*f2[j](x),a_,b_,epsabs=tol)[0]\n",
    "            C21[i,j] = quad(lambda x: f2[i](x)*f1[j](x),a_,b_,epsabs=tol)[0]\n",
    "            C22[i,j] = quad(lambda x: f2[i](x)*f2[j](x),a_,b_,epsabs=tol)[0]\n",
    "            #A\n",
    "            A11[i,j] = quad(lambda x: D(x)*f1_xx[i](x)*f1_xx[j](x),a_,b_,epsabs=tol)[0]\n",
    "            A12[i,j] = quad(lambda x: D(x)*f1_xx[i](x)*f2_xx[j](x),a_,b_,epsabs=tol)[0]\n",
    "            A21[i,j] = quad(lambda x: D(x)*f2_xx[i](x)*f1_xx[j](x),a_,b_,epsabs=tol)[0]\n",
    "            A22[i,j] = quad(lambda x: D(x)*f2_xx[i](x)*f2_xx[j](x),a_,b_,epsabs=tol)[0]\n",
    "            \n",
    "    C = np.vstack([np.hstack([C11, C12]),\n",
    "                   np.hstack([C21, C22])])*g*Δρ\n",
    "    A = np.vstack([np.hstack([A11, A12]),\n",
    "                   np.hstack([A21, A22])])\n",
    "    return A,C,b\n",
    "\n",
    "\n",
    "###Definimos datos y variables del modelo\n",
    "N=99\n",
    "L = 200\n",
    "E = 70*10**12 \n",
    "nu = 0.25\n",
    "M_0 = 5.13*10**13\n",
    "V_0 = 2.84*10**11\n",
    "g = 9.8*10**3\n",
    "Δρ = (3300 - 1030)*10**9\n",
    "def T_e(x):\n",
    "    return 15\n",
    "def q(x):\n",
    "    return 0\n",
    "def D(x):\n",
    "    d = E*(T_e(x))**3/(12*(1-nu**2))\n",
    "    return d\n",
    "tol = 0.1 #tolerancia de integración\n",
    "ε = 0 #un \n",
    "#obtener matrices\n",
    "A,C,b = ACb(N, D, q, V_0, M_0, g, Δρ, tol)\n",
    "while True: #regularizar hasta que apañe\n",
    "    try:\n",
    "        α_β = solve(A+C+ε,b)\n",
    "        break\n",
    "    except:\n",
    "        ε+=0.1\n",
    "#construir w a partir de los valores obtenidos"
   ]
  }
 ],
 "metadata": {
  "colab": {
   "include_colab_link": true,
   "name": "Lab4co.ipynb",
   "provenance": [],
   "version": "0.3.2"
  },
  "kernelspec": {
   "display_name": "Python 3",
   "language": "python",
   "name": "python3"
  },
  "language_info": {
   "codemirror_mode": {
    "name": "ipython",
    "version": 3
   },
   "file_extension": ".py",
   "mimetype": "text/x-python",
   "name": "python",
   "nbconvert_exporter": "python",
   "pygments_lexer": "ipython3",
   "version": "3.6.0"
  }
 },
 "nbformat": 4,
 "nbformat_minor": 0
}
