{
 "cells": [
  {
   "cell_type": "code",
   "execution_count": 2,
   "metadata": {},
   "outputs": [],
   "source": [
    "from dolfin import *\n",
    "from IPython.display import HTML\n",
    "import mshr as mh\n",
    "import time\n",
    "%matplotlib inline"
   ]
  },
  {
   "cell_type": "markdown",
   "metadata": {},
   "source": [
    "La ecuación que trabajaremos será la ecuación del calor en medio isotrópico no homogéneo\n",
    "\n",
    "$$u_t - \\kappa(x)A(x)\\nabla u = f_e(x)$$\n",
    "\n",
    "Donde\n",
    "\n",
    "* $u(x,t)$ es la temperatura\n",
    "\n",
    "* $f_e(x)$ representa una fuente o fuentes de calor (estufas).\n",
    "\n",
    "* $\\kappa(x)$ es el calor específico del medio en $x$. Se asumirá constante por pedazos (los medios que trabajaremos serán aire y paredes principalmente)\n",
    "\n",
    "* $A(x)$ es la conductividad térmica del medio en $x$. Al asumir un medio isotrópico (cuya conductividad no depende de la dirección) es una matriz diagonal. También la asumimos constante por pedazos (de no serlo, ese término sería $\\kappa(x) \\sum_{i,j} \\partial_{x_i} (A(x)\\partial_{x_j}u)$)\n",
    "\n",
    "Usaremos diferentes condiciones de borde. Podemos asumir, por ejemplo, condiciones de borde de tipo Dirichlet (temperatura exterior constante), condiciones de borde de tipo Neumann (para modelar el hecho de que hay temperatura que sale al exterior), o bien una condición mixta.\n",
    "\n",
    "\n",
    "En primer lugar, se trabajará el problema 2-dimensional. Posteriormente se extenderá al caso 3-dimensional."
   ]
  },
  {
   "cell_type": "code",
   "execution_count": 6,
   "metadata": {},
   "outputs": [],
   "source": [
    "#### Caso 2D ####\n",
    "'''\n",
    "Los parámetros a definir serán:\n",
    "la discretización temporal (número de pasos),\n",
    "la temperatura exterior,\n",
    "la temperatura y posición de la estufa,\n",
    "las áreas que son paredes,\n",
    "el calor específico y conductividad térmica de cada medio (aire, pared)\n",
    "'''\n",
    "#Parámetros\n",
    "número_pasos = 100\n",
    "temperatura_exterior = 0.\n",
    "temperatura_estufa = 600.\n",
    "x_estufa = 2/7 #posición de la estufa\n",
    "y_estufa = 5/7\n",
    "#String que, en C++, evalúa que un punto esté dentro de alguna pared (después probablemente lo haré con clases) \n",
    "en_paredes = \"(x[0]<=1/7 || x[0]>= 6/7 || x[1]<=1/7 || x[1]>= 6/7)\"\n",
    "#Calores específicos y conductividades térmicas de ambos medios (pared y aire)\n",
    "cal_esp_p = 10\n",
    "cal_esp_a = 5\n",
    "cond_p = 5\n",
    "cond_a = 10"
   ]
  },
  {
   "cell_type": "code",
   "execution_count": 8,
   "metadata": {},
   "outputs": [
    {
     "ename": "NameError",
     "evalue": "name 'x_es_estufa' is not defined",
     "output_type": "error",
     "traceback": [
      "\u001b[0;31m---------------------------------------------------------------------------\u001b[0m",
      "\u001b[0;31mNameError\u001b[0m                                 Traceback (most recent call last)",
      "\u001b[0;32m<ipython-input-8-9f2db7357dff>\u001b[0m in \u001b[0;36m<module>\u001b[0;34m\u001b[0m\n\u001b[1;32m     15\u001b[0m \u001b[0mx_es_x_estufa\u001b[0m \u001b[0;34m=\u001b[0m \u001b[0;34m\"(\"\u001b[0m\u001b[0;34m+\u001b[0m\u001b[0mstr\u001b[0m\u001b[0;34m(\u001b[0m\u001b[0mx_estufa\u001b[0m\u001b[0;34m)\u001b[0m\u001b[0;34m+\u001b[0m\u001b[0;34m\"- DOLFIN_EPS <=x[0] && x[0] <= \"\u001b[0m\u001b[0;34m+\u001b[0m\u001b[0mstr\u001b[0m\u001b[0;34m(\u001b[0m\u001b[0mx_estufa\u001b[0m\u001b[0;34m)\u001b[0m\u001b[0;34m+\u001b[0m\u001b[0;34m\"+ DOLFIN_EPS)\"\u001b[0m\u001b[0;34m\u001b[0m\u001b[0;34m\u001b[0m\u001b[0m\n\u001b[1;32m     16\u001b[0m \u001b[0my_es_y_estufa\u001b[0m \u001b[0;34m=\u001b[0m \u001b[0;34m\"(\"\u001b[0m\u001b[0;34m+\u001b[0m\u001b[0mstr\u001b[0m\u001b[0;34m(\u001b[0m\u001b[0my_estufa\u001b[0m\u001b[0;34m)\u001b[0m\u001b[0;34m+\u001b[0m\u001b[0;34m\"- DOLFIN_EPS <=x[1] && x[1] <= \"\u001b[0m\u001b[0;34m+\u001b[0m\u001b[0mstr\u001b[0m\u001b[0;34m(\u001b[0m\u001b[0my_estufa\u001b[0m\u001b[0;34m)\u001b[0m\u001b[0;34m+\u001b[0m\u001b[0;34m\"+ DOLFIN_EPS)\"\u001b[0m\u001b[0;34m\u001b[0m\u001b[0;34m\u001b[0m\u001b[0m\n\u001b[0;32m---> 17\u001b[0;31m \u001b[0men_estufa\u001b[0m \u001b[0;34m=\u001b[0m \u001b[0mx_es_estufa\u001b[0m\u001b[0;34m+\u001b[0m\u001b[0;34m\" && \"\u001b[0m\u001b[0;34m+\u001b[0m\u001b[0my_es_y_estufa\u001b[0m\u001b[0;34m\u001b[0m\u001b[0;34m\u001b[0m\u001b[0m\n\u001b[0m\u001b[1;32m     18\u001b[0m \u001b[0men_aire\u001b[0m \u001b[0;34m=\u001b[0m \u001b[0;34m\"!\"\u001b[0m\u001b[0;34m+\u001b[0m\u001b[0men_paredes\u001b[0m  \u001b[0;31m#el aire es el espacio que queda\u001b[0m\u001b[0;34m\u001b[0m\u001b[0;34m\u001b[0m\u001b[0m\n\u001b[1;32m     19\u001b[0m \u001b[0;34m\u001b[0m\u001b[0m\n",
      "\u001b[0;31mNameError\u001b[0m: name 'x_es_estufa' is not defined"
     ]
    }
   ],
   "source": [
    "#Esto no se toca, salvo para debuggear\n",
    "\n",
    "# Parámetros temporales\n",
    "T = 1 # Tiempo final\n",
    "Δt = T / número_pasos # Paso de tiempo\n",
    "\n",
    "# Crear malla\n",
    "malla = UnitSquareMesh(16,16)\n",
    "\n",
    "# Espacio de funciones a considerar\n",
    "V = FunctionSpace(mesh, 'Lagrange', 1)\n",
    "\n",
    "##Funciones\n",
    "#algunas variables auxiliares\n",
    "x_es_x_estufa = \"(\"+str(x_estufa)+\"- DOLFIN_EPS <=x[0] && x[0] <= \"+str(x_estufa)+\"+ DOLFIN_EPS)\"\n",
    "y_es_y_estufa = \"(\"+str(y_estufa)+\"- DOLFIN_EPS <=x[1] && x[1] <= \"+str(y_estufa)+\"+ DOLFIN_EPS)\"\n",
    "en_estufa = x_es_estufa+\" && \"+y_es_y_estufa\n",
    "en_aire = \"!\"+en_paredes  #el aire es el espacio que queda\n",
    "\n",
    "#Función de la fuente\n",
    "f = Expression(str(temperatura_estufa)+\"*\"+en_estufa, degree=1, t = 0.1)\n",
    "#Función de conductividad térmica\n",
    "A = Expression(str(cond_p)+\"*\"+en_paredes+\" + \"+str(cond_a)+\"*\"+en_aire)\n",
    "#Función de calor específico\n",
    "k = Expression(str(cal_esp_p)+\"*\"+en_paredes+\" + \"+str(cal_esp_a)+\"*\"+en_aire)\n",
    "# Condiciones de borde\n",
    "#Definimos borde Dirichlet (por ahora, todo el borde)\n",
    "cpp_borde = \"(x[0] < DOLFIN_EPS || x[0] > 1. - DOLFIN_EPS || x[1] < DOLFIN_EPS || x[1] > 1. - DOLFIN_EPS) && on_boundary\"\n",
    "bc = DirichletBC(V, dl.Constant(temperatura_exterior), cpp_borde)\n",
    "#Borde Neumann (por ahora, cero)\n",
    "#g = Expression(\"<<aquí expresión>>\", degree = 1)\n",
    "\n",
    "#Funciones para la formulación variacional\n",
    "u, v = TrialFunction(V), TestFunction(V)\n",
    "u_n = Function(V)\n",
    "\n",
    "##Formulación variacional y sistema lineal\n",
    "F = u*v*dx + Δt*k*A*inner(grad(u), grad(v))*dx - (u_n + Δt*f)*v*dx # - Δt*g*v*ds cuando haya Newmann\n",
    "a, L = lhs(F), rhs(F)\n",
    "\n",
    "# Preparación para guardar la solución\n",
    "archivo_sol = File('Resultados/calor.pvd')\n",
    "sols = []\n",
    "\n",
    "# Iteración principal\n",
    "u = Function(V)\n",
    "u_n = interpolate(Constant(temperatura_exterior), V)\n",
    "\n",
    "t = 0\n",
    "for n in range(número_pasos):\n",
    "    # Update-time\n",
    "    t += dt\n",
    "    # Solve linear system\n",
    "    solve(a == L, u, bc)\n",
    "    \n",
    "    # Save results\n",
    "    archivo_sol << (u, t)\n",
    "    \n",
    "    if n % 20 == 0:\n",
    "        fig = plt.figure()\n",
    "        p = plot(u, title=\"Poisson Test\", mode=\"warp\")\n",
    "        fig.colorbar(p)\n",
    "        plt.show()\n",
    "        print(\"Tiempo: {:.2f}, solución guardada con norma L2 {:4f}\".format(t,norm(u, \"L2\")))\n",
    "    # Update solution at time n and save to list for plotting\n",
    "    u_n.assign(u)\n",
    "    f.t = t\n",
    "    sols.append(u.copy(deepcopy=True))"
   ]
  },
  {
   "cell_type": "code",
   "execution_count": 3,
   "metadata": {},
   "outputs": [],
   "source": []
  }
 ],
 "metadata": {
  "kernelspec": {
   "display_name": "Python 3",
   "language": "python",
   "name": "python3"
  },
  "language_info": {
   "codemirror_mode": {
    "name": "ipython",
    "version": 3
   },
   "file_extension": ".py",
   "mimetype": "text/x-python",
   "name": "python",
   "nbconvert_exporter": "python",
   "pygments_lexer": "ipython3",
   "version": "3.6.7"
  }
 },
 "nbformat": 4,
 "nbformat_minor": 2
}
