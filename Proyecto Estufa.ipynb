{
 "cells": [
  {
   "cell_type": "code",
   "execution_count": 4,
   "metadata": {},
   "outputs": [],
   "source": [
    "from dolfin import *\n",
    "from IPython.display import HTML\n",
    "import mshr as mh\n",
    "import time\n",
    "%matplotlib inline"
   ]
  },
  {
   "cell_type": "markdown",
   "metadata": {},
   "source": [
    "La ecuación que trabajaremos será la ecuación del calor en medio isotrópico no homogéneo\n",
    "\n",
    "$$u_t - \\kappa(x)A(x)\\nabla u = f_e(x)$$\n",
    "\n",
    "Donde\n",
    "\n",
    "* $u(x,t)$ es la temperatura\n",
    "\n",
    "* $f_e(x)$ representa una fuente o fuentes de calor (estufas).\n",
    "\n",
    "* $\\kappa(x)$ es el calor específico del medio en $x$. Se asumirá constante por pedazos (los medios que trabajaremos serán aire y paredes principalmente)\n",
    "\n",
    "* $A(x)$ es la conductividad térmica del medio en $x$. Al asumir un medio isotrópico (cuya conductividad no depende de la dirección) es una matriz diagonal. También la asumimos constante por pedazos (de no serlo, ese término sería $\\kappa(x) \\sum_{i,j} \\partial_{x_i} (A(x)\\partial_{x_j}u)$)\n",
    "\n",
    "Usaremos diferentes condiciones de borde. Podemos asumir, por ejemplo, condiciones de borde de tipo Dirichlet (temperatura exterior constante), condiciones de borde de tipo Neumann (para modelar el hecho de que hay temperatura que sale al exterior), o bien una condición mixta.\n",
    "\n",
    "\n",
    "En primer lugar, se trabajará el problema 2-dimensional. Posteriormente se extenderá al caso 3-dimensional."
   ]
  },
  {
   "cell_type": "code",
   "execution_count": null,
   "metadata": {},
   "outputs": [],
   "source": [
    "#### Caso 2D ####\n",
    "##Parámetros escogidos por el usuario\n",
    "\n",
    "#coordenadas de la llama de la estufa (deben estar entre 0 y 1)\n",
    "x_est = Point(2/7, 5/7)\n",
    "\n",
    "#Función booleana que retorna 1 ssi el punto ingresado está en una pared\n",
    "def enpared(punto):\n",
    "    x, y = punto[0], punto[1] #separar coordenadas\n",
    "    pared_izq = "
   ]
  },
  {
   "cell_type": "code",
   "execution_count": 3,
   "metadata": {},
   "outputs": [],
   "source": [
    "\n",
    "\n",
    "\n",
    "##Parámetros del modelo\n",
    "T = 1 #tiempo final\n",
    "paso = 60 #número de pasos (minutos)\n",
    "dt = T/paso\n",
    "\n",
    "#Habitación cuadrada\n",
    "mesh = UnitSquareMesh(10,10)\n",
    "\n",
    "#Espacio funcional a considerar\n",
    "V = FunctionSpace(mesh, 'Lagrange',1)\n",
    "\n",
    "#Condiciones de borde. Comenzaremos con condiciones de tipo Dirichlet\n",
    "def borde(x, on_boundary):\n",
    "    resp = x[0] < DOLFIN_EPS or x[0] > 1- DOLFIN_EPS\n",
    "    return on_boundary and resp\n",
    "bor = Constant(0.) #<-- Aquí la temperatura exterior\n",
    "\n",
    "#Construcción de la Estufa Puntual\n"
   ]
  }
 ],
 "metadata": {
  "kernelspec": {
   "display_name": "Python 3",
   "language": "python",
   "name": "python3"
  },
  "language_info": {
   "codemirror_mode": {
    "name": "ipython",
    "version": 3
   },
   "file_extension": ".py",
   "mimetype": "text/x-python",
   "name": "python",
   "nbconvert_exporter": "python",
   "pygments_lexer": "ipython3",
   "version": "3.6.7"
  }
 },
 "nbformat": 4,
 "nbformat_minor": 2
}
